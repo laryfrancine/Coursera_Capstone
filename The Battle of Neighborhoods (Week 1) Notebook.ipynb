{
    "cells": [
        {
            "cell_type": "markdown",
            "metadata": {
                "collapsed": true
            },
            "source": "# Business problem\nSarah is an international business woman and she is always looking for new opportunities around the world. She decided to start her clothing business in one of the major fashion cities of the world. After doing a lot of research, she narrows her search to two cities: New York and Paris. Both cities are very diverse and are the financial capitals of their respective countries. Sarah thinks the safest way is to compare the neighborhoods of the two cities and determine how similar or dissimilar they are. Then she can get more helpful information to help her make her decision."
        },
        {
            "cell_type": "markdown",
            "metadata": {},
            "source": "# Data description\nFirst, we need to fetch and explore neighborhoods data of those two cities from Foursquare API. The information we want to focus on are shopping venues, coffee shops, and entertainment venues. We will choose one neighborhood from each city: Manhattan for New York and Louvre for Paris. We need to apply Neighborhood Segmentation and Clustering to analyzing the neighborhood data and prioritize the best shopping location in both cities based on foot traffic and type of venues available. Lastly, we can decide which city is the better place for Sarah to start her business."
        },
        {
            "cell_type": "markdown",
            "metadata": {},
            "source": "# Methodology\nWe need to explore two cities one by one with the same methodology. First, we will pull data for the city of Paris but only include the neighborhood of Louvre for this project. For the New York Manhattan data, we will extract that part of data from the previous data file, Then explore both cities by using Foursquare API and visualize the results separately."
        },
        {
            "cell_type": "code",
            "execution_count": null,
            "metadata": {},
            "outputs": [],
            "source": ""
        }
    ],
    "metadata": {
        "kernelspec": {
            "display_name": "Python 3.6",
            "language": "python",
            "name": "python3"
        },
        "language_info": {
            "codemirror_mode": {
                "name": "ipython",
                "version": 3
            },
            "file_extension": ".py",
            "mimetype": "text/x-python",
            "name": "python",
            "nbconvert_exporter": "python",
            "pygments_lexer": "ipython3",
            "version": "3.6.9"
        }
    },
    "nbformat": 4,
    "nbformat_minor": 1
}